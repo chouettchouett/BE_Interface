{
  "nbformat": 4,
  "nbformat_minor": 0,
  "metadata": {
    "colab": {
      "provenance": []
    },
    "kernelspec": {
      "name": "python3",
      "display_name": "Python 3"
    },
    "language_info": {
      "name": "python"
    }
  },
  "cells": [
    {
      "cell_type": "code",
      "source": [
        "import kagglehub\n",
        "import os\n",
        "import re\n",
        "import pandas as pd\n",
        "\n",
        "# Dataset depuis Kaggle (voir site)\n",
        "path = kagglehub.dataset_download(\"blessondensil294/friends-tv-series-screenplay-script\")\n",
        "print(\"Path to dataset files:\", path)\n",
        "\n",
        "#Créer un path\n",
        "dataset_path = path\n",
        "print(\"Liste des fichiers :\", os.listdir(dataset_path))\n",
        "\n",
        "# Dataframe vide\n",
        "mainData = pd.DataFrame(columns=['season', 'episode', 'character', 'line'])\n",
        "\n",
        "# Traitement des fichiers\n",
        "for filename in os.listdir(dataset_path):\n",
        "    if filename.endswith(\".txt\"):  # Vérifier que c'est un fichier texte\n",
        "        season = re.findall(r\"([sS][0-9]{2})E[0-9]{2}\", filename)\n",
        "        episode = re.findall(r\"[sS][0-9]{2}(E[0-9]{2})\", filename)\n",
        "\n",
        "        if season and episode:  # Vérifier qu'on a trouvé une saison et un épisode\n",
        "            season = season[0].upper()\n",
        "            episode = episode[0].upper()\n",
        "\n",
        "            # Script\n",
        "            script_path = os.path.join(dataset_path, filename)\n",
        "            with open(script_path, \"r\", encoding=\"utf-8\") as file:\n",
        "                lines = file.readlines()\n",
        "\n",
        "            for line in lines:\n",
        "                character_match = re.match(r\"^(Monica|Rachel|Joey|Chandler|Ross|Phoebe):\", line)\n",
        "                if character_match:\n",
        "                    character = character_match.group(1)  # Nom du personnage\n",
        "                    cleanLine = line.replace(character + \":\", \"\").strip()  # Nettoyer la réplique\n",
        "\n",
        "                    # Ajouter ligne dataframe\n",
        "                    newRow = pd.DataFrame([{'season': season, 'episode': episode, 'character': character, 'line': cleanLine}])\n",
        "                    mainData = pd.concat([mainData, newRow], ignore_index=True)\n",
        "\n",
        "# Création d'un CSV pour le projet\n",
        "output_folder = \"/mnt/data\"  #Zone csv (google collab) que j'ai ensuite download\n",
        "os.makedirs(output_folder, exist_ok=True)\n",
        "output_csv = os.path.join(output_folder, \"friends_dialogues.csv\")\n",
        "mainData.to_csv(output_csv, index=False)\n",
        "\n",
        "print(f\"Fichier CSV enregistré ici : {output_csv}\")\n"
      ],
      "metadata": {
        "colab": {
          "base_uri": "https://localhost:8080/"
        },
        "id": "kGbsyEK3xWYa",
        "outputId": "54134469-e53f-4538-cdb9-9e953be6a096"
      },
      "execution_count": null,
      "outputs": [
        {
          "output_type": "stream",
          "name": "stdout",
          "text": [
            "Path to dataset files: /root/.cache/kagglehub/datasets/blessondensil294/friends-tv-series-screenplay-script/versions/1\n",
            "Liste des fichiers : ['S02E20 Old Yeller Dies.txt', 'S09E06 The Male Nanny.txt', 'S01E08 Nana Dies Twice.txt', 'S07E09 All The Candy.txt', 'S08E17 The Tea Leaves.txt', 'S06E23 The Ring.txt', 'S07E01 Monicas Thunder.txt', 'S10E14 Princess Consuela.txt', 'S07E14 They All Turn Thirty.txt', 'S06E24 The Proposal Part I  II.txt', 'S03E08 The Giant Poking Device.txt', 'S07E18 Joeys Award.txt', 'S06E09 Ross Got High.txt', 'S06E04 Joey Loses His Insurance.txt', 'S09E21 The Fertility Test.txt', 'S06E12 The Joke.txt', 'S07E08 Chandler Doesnt Like Dogs.txt', 'S04E04 The Ballroom Dancing.txt', 's03E25 At The Beach.txt', 'S05E05 The Kips.txt', 'S05E13 Joeys Bag.txt', 'S02E24 Barry And Mindys Wedding.txt', 'S08E08 The Stripper.txt', 'S09E22 The Donor.txt', 'S03E14 Phoebes Ex-Partner.txt', 'S08E15 The Birthing Video.txt', 'S10E04 The Cake.txt', 'S09E10 Christmas In Tulsa.txt', 'S03E01 The Princess Leia Fantasy.txt', 'S03E13 Monica And Richard Are Just Friends.txt', 'S07E20 Rachels Big Kiss.txt', 'S03E19 The Tiny T-Shirt.txt', 'S03E11 Chandler Cant Remember Which Sister.txt', 'S01E03 The Thumb.txt', 'S05E19 Ross Cant Flirt.txt', 'S01E11 Mrs. Bing.txt', 'S08E16 Joey Tells Rachel.txt', 'S01E15 The Stoned Guy.txt', 'S10E12 Phoebes Wedding.txt', 'S03E09 The Football.txt', 'S07E07 Rosss Library Book.txt', 'S10E16 Rachels Going Away Party.txt', 'S08E21 The Cooking Class.txt', 'S04E23 Rosss Wedding.txt', 'S02E02 The Breast Milk.txt', 'S07E21 The Vows.txt', 'S10E01 Joey and Rachel Kiss.txt', 'S08E02 The Red Sweater.txt', 'S06E08 Rosss Teeth.txt', 'S04E11 Phoebes Uterus.txt', 'S02E18 Dr. Ramoray Dies.txt', 'S08E18 In Massapequa.txt', 'S08E19 Joeys Interview.txt', 'S06E14 Chandler Cant Cry.txt', 'S03E21 The Chick And The Duck.txt', 'S01E14 The Candy Hearts.txt', 'S09E09 Rachels Phone Number.txt', 'S03E18 The Hypnosis Tape.txt', 'S02E21 The Bullies.txt', 'S01E07 The Blackout.txt', 'S10E08 The Late Thanksgiving.txt', 'S09E19 Rachels Dream.txt', 'S03E07 The Race Car Bed.txt', 'S01E06 The Butt.txt', 'S04E07 Chandler Crosses The Line.txt', 'S04E20 The Wedding Dresses.txt', 'S07E03 Phoebes Cookies.txt', 'S06E01 Vegas.txt', 'S04E06 The Dirty Girl.txt', 'S06E03 Rosss Denial.txt', 'S09E02 Emma Cries.txt', 'S04E14 Joeys Dirty Day.txt', 'S04E08 Chandler In A Box.txt', 'S04E22 The Worst Best Man Ever.txt', 'S09E12 Phoebes Rats.txt', 'S10E07 The Home Study.txt', 'S09E15 The Mugging.txt', 'S06E05 Joeys Porsche.txt', 'S01E22 The Ick Factor.txt', 'S10E02 Ross Is Fine.txt', 'S08E03 Rachel Tells....txt', 'S03E24 The Ultimate Fighting Champion.txt', 'S07E24 Friends Special The Stuff Youve Never Seen.txt', 'S01E23 The Birth.txt', 'S06E07 Phoebe Runs.txt', 'S06E06 On The Last Night.txt', 'S06E20 Mac And C.H.E.E.S.E..txt', 'S02E14 The Prom Video.txt', 'S09E16 The Boob Job.txt', 'S05E16 The Cop.txt', 'S08E01 I Do.txt', 'S03E03 The Jam.txt', 'S01E21 The Fake Monica.txt', 'S01E12 The Dozen Lasagnas.txt', 'S07E05 The Engagement Picture.txt', 'S03E04 The Metaphorical Tunnel.txt', 'S05E08 The Thanksgiving Flashbacks.txt', 'S03E23 Rosss Thing.txt', 'S01E02 The Sonogram At The End.txt', 'S04E02 The Cat.txt', 'S09E05 Phoebes Birthday Dinner.txt', 'S06E17 Unagi.txt', 'S08E05 Rachels Date.txt', 'S06E21 Ross Meets Elizabeths Dad.txt', 'S10E03 Rosss Tan.txt', 'S03E17 The Ski Trip.txt', 'S02E12-S02E13 The Superbowl.txt', 'S02E08 The List.txt', 'S04E03 The Cuffs.txt', 'S10E17-S10E18 The Last One Part I  II.txt', 'S04E16 The Fake Party.txt', 'S01E24 Rachel Finds Out.txt', 'S08E10 Monicas Boots.txt', 'S07E23 Chandler And Monicas Wedding.txt', 'S08E22 Rachel Is Late.txt', 'S04E01 The Jellyfish.txt', 'S06E13 Rachels Sister.txt', 'S03E10 Rachel Quits.txt', 'S05E09 Rosss Sandwich.txt', 'S01E09 Underdog Gets Away.txt', 'S03E20 The Dollhouse.txt', 'S06E10 The Routine.txt', 'S05E12 Chandlers Work Laugh.txt', 'S07E11 All The Cheesecakes.txt', 'S04E10 The Girl From Poughkeepsie.txt', 'S04E18 Rachels New Dress.txt', 'S02E22 The Two Parties.txt', 'S09E07 Rosss Inappropriate Song.txt', 'S09E01 No One Proposes.txt', 'S10E11 The Stripper Cries.txt', 'S02E16 Joey Moves Out.txt', 'S02E07 Ross Finds Out.txt', 'S05E04 Phoebe Hates PBS.txt', 'S01E19 The Monkey Gets Away.txt', 'S08E20 The Baby Shower.txt', 'S10E10 Chandler Gets Caught.txt', 'S02E17 Eddie Moves In.txt', 'S03E05 Frank Jr..txt', 'S03E16 The Morning After.txt', 'S01E13 The Boobies.txt', 'S09E03 The Pediatrician.txt', 'S06E02 Ross Hugs Rachel.txt', 'S09E13 Monica Sings.txt', 'S08E23 Rachel Has A Baby.txt', 'S08E09 The Rumor.txt', 'S05E11 All The Resolutions.txt', 'S05E17 Rachels Inadvertant Kiss.txt', 'S01E17 The Two Parts Part II.txt', 'S07E10 The Huliday Armadillo.txt', 'S09E08 Rachels Other Sister.txt', 'S05E14 Everybody Finds Out.txt', 'S09E18 The Lottery.txt', 'S07E17 The Cheap Wedding Dress.txt', 'S08E07 The Stain.txt', 'S07E12 Theyre Up All Night.txt', 'S05E06 The Yeti.txt', 'S04E19 All The Haste.txt', 'S05E20 The Ride Along.txt', 'S02E19 Eddie Wont Go.txt', 'S08E13 Chandler Takes A Bath.txt', 'S02E11 The Lesbian Wedding.txt', 'S05E22 Joeys Big Break.txt', 'S01E04 George Stephanopoulos.txt', 'S09E23-S09E24 In Barbados.txt', 'S03E12 All The Jealousy.txt', 'S08E11 Rosss Step Forward.txt', 'S05E18 Rachel Smokes.txt', 'S05E01 Ross Says Rachel.txt', 'S04E05 Joeys New Girlfriend.txt', 'S07E02 Rachels Book.txt', 'S02E06 The Baby On The Bus.txt', 'S10E13 Joey Speaks French.txt', 'S06E15-S06E16 That Could Have Been Part I  II.txt', 'S04E17 The Free Porn.txt', 'S02E09 Phoebes Dad.txt', 'S06E18 Ross Dates A Student.txt', 'S09E11 Rachel Goes Back To Work.txt', 'S07E19 Ross And Monicas Cousin.txt', 'S07E04 Rachels Assistant.txt', 'S06E19 Joeys Fridge.txt', 'S01E18 All The Poker.txt', 'S01E16 The Two Parts Part I.txt', 'S01E01 Monica Gets A Roommate.txt', 'S06E11 The Apothecary Table.txt', 'S03E22 The Screamer.txt', 'S02E03 Heckles Dies.txt', 'S02E01 Rosss New Girlfriend.txt', 'S08E12 Joey Dates Rachel.txt', 'S06E22 Pauls The Man.txt', 'S07E06 The Nap Partners.txt', 'S07E16 The Truth About London.txt', 'S02E05 Five Steaks And An Eggplant.txt', 'S03E06 The Flashback.txt', 'S09E20 The Soap Opera Party.txt', 'S04E09 Theyre Going To Party.txt', 'S09E14 The Blind Dates.txt', 'S04E21 The Invitation.txt', 'S07E15 Joeys New Brain.txt', 'S07E22 Chandlers Dad.txt', 'S10E09 The Birth Mother.txt', 'S05E07 Ross Moves In.txt', 'S04E15 All The Rugby.txt', 'S07E13 Rosita Dies.txt', 'S09E04 The Sharks.txt', 'S10E06 Rosss Grant.txt', 'S10E05 Rachels Sister Babysits.txt', 'S09E17 The Memorial Service.txt', 'S10E15 Estelle Dies.txt', 'S05E21 The Ball.txt', 'S01E10 The Monkey.txt', 'S05E23 In Vegas.txt', 'S04E13 Rachels Crush.txt', 'S02E04 Phoebes Husband.txt', 'S05E15 The Girl Who Hits Joey.txt', 'S08E04 The Videotape.txt', 'S05E03 Hundredth.txt', 'S05E02 All The Kissing.txt', 'S01E20 The Evil Orthodontist.txt', 'S02E15 Ross And Rachel... You Know.txt', 'S03E02 No Ones Ready.txt', 'S02E10 Russ.txt', 'S08E14 The Secret Closet.txt', 'S04E12 The Embryos.txt', 'S01E05 The East German Laundry Detergent.txt', 'S03E15 Ross And Rachel Take A Break.txt', 'S08E06 The Halloween Party.txt', 'S05E10 The Inappropriate Sister.txt', 'S02E23 The Chicken Pox.txt']\n",
            "✅ Fichier CSV enregistré ici : /mnt/data/friends_dialogues.csv\n"
          ]
        }
      ]
    }
  ]
}